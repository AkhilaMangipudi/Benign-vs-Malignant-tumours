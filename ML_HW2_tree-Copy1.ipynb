{
 "cells": [
  {
   "cell_type": "code",
   "execution_count": 33,
   "metadata": {},
   "outputs": [
    {
     "name": "stdout",
     "output_type": "stream",
     "text": [
      "Number of benign samples:  (444, 10)\n",
      "Number of malignant samples:  (239, 10)\n"
     ]
    }
   ],
   "source": [
    "#Question 1(b.i)\n",
    "#Load the csv file into a dataframe\n",
    "import pandas as pd\n",
    "input_df = pd.read_csv(\"hw2_question1.csv\")\n",
    "\n",
    "#Number of samples belonging to benign and number belonging to malignant case\n",
    "num_samples_benign = input_df.loc[input_df['Class'] == 2].shape\n",
    "print(\"Number of benign samples: \",num_samples_benign)\n",
    "\n",
    "num_samples_malignant = input_df.loc[input_df['Class'] == 4].shape\n",
    "print(\"Number of malignant samples: \",num_samples_malignant)\n",
    "\n",
    "#The two classes percentage distribution\n",
    "#Benign: 65%\n",
    "#Malignant: 35%"
   ]
  },
  {
   "cell_type": "code",
   "execution_count": 28,
   "metadata": {},
   "outputs": [
    {
     "name": "stdout",
     "output_type": "stream",
     "text": [
      "X_train: (455, 9)\n",
      "Y_train: (455,)\n",
      "X_test: (228, 9)\n",
      "Y_test: (228,)\n"
     ]
    }
   ],
   "source": [
    "#Randomly shuffle the data and divide into train and test sets\n",
    "#2/3rd training data\n",
    "#1/3rd testing data\n",
    "from sklearn.utils import shuffle\n",
    "benign_samples = input_df.loc[input_df['Class'] == 2]\n",
    "benign_samples = shuffle(benign_samples)\n",
    "\n",
    "benign_train = benign_samples.iloc[0:296,:]\n",
    "benign_test = benign_samples.iloc[296:,:]\n",
    "\n",
    "malign_samples = input_df.loc[input_df['Class'] == 4]\n",
    "malign_samples = shuffle(malign_samples)\n",
    "\n",
    "malign_train = malign_samples.iloc[0:159,:]\n",
    "malign_test = malign_samples.iloc[159:,:]\n",
    "\n",
    "train_set = pd.concat([benign_train, malign_train])\n",
    "X_train = train_set.iloc[:,0:9]\n",
    "Y_train = train_set.iloc[:,-1]\n",
    "print(\"X_train:\",X_train.shape)\n",
    "print(\"Y_train:\",Y_train.shape)\n",
    "\n",
    "test_set = pd.concat([benign_test , malign_test])\n",
    "X_test = test_set.iloc[:,0:9]\n",
    "Y_test = test_set.iloc[:,-1]\n",
    "print(\"X_test:\",X_test.shape)\n",
    "print(\"Y_test:\",Y_test.shape)"
   ]
  },
  {
   "cell_type": "code",
   "execution_count": 3,
   "metadata": {},
   "outputs": [],
   "source": [
    "import math\n",
    "import sys\n",
    "#Function computes entropy given a feature\n",
    "#input is an array containing different feature values\n",
    "def computeBranchEntropy(feature_values):\n",
    "    total = feature_values.shape[0]\n",
    "    num_benign = len(feature_values.index[feature_values == 2].tolist())\n",
    "    if(num_benign == 0 or num_benign == total):\n",
    "        return 0.0\n",
    "    num_malign = len(feature_values.index[feature_values == 4].tolist())\n",
    "    entropy = (num_benign)/(total) * math.log2(num_benign/total) + \\\n",
    "                 ((num_malign)/(total))* math.log2(num_malign/total)\n",
    "    entropy = entropy*(-1)\n",
    "    return entropy"
   ]
  },
  {
   "cell_type": "code",
   "execution_count": 4,
   "metadata": {},
   "outputs": [],
   "source": [
    "#Input is a dataframe which corresponds to values of a feature.\n",
    "#Considers 9 possible splits of input features \n",
    "#and returns the split which gives minimum entropy\n",
    "def computeConditionalEntropy(feature_df):\n",
    "    min_entropy = sys.maxsize\n",
    "    min_split_index = -1\n",
    "    for i in range(1,10):\n",
    "        branch_1 = feature_df.index[feature_df <= i]\n",
    "        branch_2 = feature_df.index[feature_df > i]\n",
    "        branch_1_values = Y_train.loc[branch_1]\n",
    "        branch_2_values = Y_train.loc[branch_2]\n",
    "        branch_1_num = branch_1_values.shape[0]\n",
    "        branch_2_num = branch_2_values.shape[0]\n",
    "        if(branch_1_num !=0 or branch_2_num != 0):\n",
    "            branch_1_entropy = computeBranchEntropy(branch_1_values)\n",
    "            branch_2_entropy = computeBranchEntropy(branch_2_values)\n",
    "            total = branch_1_num + branch_2_num\n",
    "            entropy_split = (branch_1_num/total)*(branch_1_entropy) \\\n",
    "                            + (branch_2_num/total)*(branch_2_entropy)\n",
    "            if(entropy_split < min_entropy):\n",
    "                min_entropy = entropy_split\n",
    "                min_split_index = i\n",
    "    return (min_entropy, min_split_index)"
   ]
  },
  {
   "cell_type": "code",
   "execution_count": 5,
   "metadata": {},
   "outputs": [],
   "source": [
    "#Function which gives the attribute for which\n",
    "#the entropy is minimum\n",
    "#Also gives the range at which that particular attribute \n",
    "#has to be split\n",
    "def SplitAttribute(train_set):\n",
    "    min_entropy = sys.maxsize\n",
    "    min_attribute = -1\n",
    "    min_attribute_split = -1\n",
    "    for i in train_set:\n",
    "        if (i != 'Class' and train_set.loc[:,i].shape[0] != 0):\n",
    "            (cond_entropy, index) = computeConditionalEntropy(train_set.loc[:,i])\n",
    "            if(cond_entropy < min_entropy):\n",
    "                min_entropy = cond_entropy\n",
    "                min_attribute = i\n",
    "                min_attribute_split = index\n",
    "    return (min_attribute, min_attribute_split, min_entropy)"
   ]
  },
  {
   "cell_type": "code",
   "execution_count": 6,
   "metadata": {},
   "outputs": [],
   "source": [
    "class Tree:\n",
    "    def _init_(self):\n",
    "        self.left = None\n",
    "        self.right = None\n",
    "        self.split_index = None\n",
    "        self.split_attribute = None\n",
    "        self.type = None\n",
    "        \n",
    "root = Tree()\n",
    "root.data = \"root\"\n",
    "root.left = Tree()\n",
    "root.left.data = \"left\"\n",
    "root.right = Tree()\n",
    "root.right.data = \"right\""
   ]
  },
  {
   "cell_type": "code",
   "execution_count": 7,
   "metadata": {},
   "outputs": [],
   "source": [
    "#Generates leaf node based on majority voting\n",
    "def generateLeaf(train_values):\n",
    "    num_benign = len(train_values.index[train_values.iloc[:,-1] == 2].tolist())\n",
    "    num_malign = len(train_values.index[train_values.iloc[:,-1] ==4].tolist())\n",
    "    root = Tree()\n",
    "    if(num_benign > num_malign):\n",
    "        root.type = 2\n",
    "    else:\n",
    "        root.type = 4\n",
    "    return root"
   ]
  },
  {
   "cell_type": "code",
   "execution_count": 8,
   "metadata": {},
   "outputs": [],
   "source": [
    "#Question 1(b.ii)\n",
    "#Decision tree with entropy as splitting criteria\n",
    "#Stop gorwing the tree by conditioning on maximum depth\n",
    "def GenerateTree(train_set,max_depth,curr_depth):\n",
    "    if(curr_depth >= max_depth):\n",
    "        return generateLeaf(train_set)\n",
    "    else:\n",
    "        best_attribute, best_index, best_entropy = SplitAttribute(train_set)\n",
    "        \n",
    "        left_data = train_set[train_set.loc[:,best_attribute] <= best_index]\n",
    "        right_data = train_set[train_set.loc[:,best_attribute] > best_index]\n",
    "        \n",
    "        #left_data = left_data.drop(best_attribute,axis=1)\n",
    "        #right_data = right_data.drop(best_attribute,axis=1)\n",
    "    \n",
    "        if(left_data.shape[0] == 0 or left_data.shape[0] == train_set.shape[0]):\n",
    "            return generateLeaf(train_set)\n",
    "        root = Tree()\n",
    "        root.split_index = best_index\n",
    "        root.split_attribute = best_attribute\n",
    "        root.left = GenerateTree(left_data,max_depth,curr_depth+1)\n",
    "        root.right = GenerateTree(right_data,max_depth,curr_depth+1)\n",
    "        return root"
   ]
  },
  {
   "cell_type": "code",
   "execution_count": 9,
   "metadata": {},
   "outputs": [],
   "source": [
    "#Predicts the class of a sample\n",
    "def predictSample(root, sample_row):\n",
    "    if hasattr(root,'split_attribute'):\n",
    "        #this is a non-leaf node\n",
    "        if(sample_row[root.split_attribute] <= root.split_index):\n",
    "            return predictSample(root.left, sample_row)\n",
    "        else:\n",
    "            return predictSample(root.right,sample_row)\n",
    "    else:\n",
    "        return root.type\n",
    "    \n",
    "def predict(root,train_set):\n",
    "    train_len = train_set.shape[0]\n",
    "    correct_labels = 0\n",
    "    for i in range(train_len):\n",
    "        train_row = train_set.iloc[i,:]\n",
    "        predicted_label = predictSample(root,train_row)\n",
    "        actual_label = train_set.iloc[i,-1]\n",
    "        if(predicted_label == actual_label):\n",
    "            correct_labels = correct_labels + 1\n",
    "    return (correct_labels/train_len)\n",
    "    "
   ]
  },
  {
   "cell_type": "code",
   "execution_count": 29,
   "metadata": {
    "scrolled": false
   },
   "outputs": [
    {
     "name": "stdout",
     "output_type": "stream",
     "text": [
      "Number of levels in tree:  1\n",
      "Accuracy on training set:  0.9208791208791208\n",
      "Accuracy on testing set:  0.9035087719298246\n",
      "Number of levels in tree:  2\n",
      "Accuracy on training set:  0.9230769230769231\n",
      "Accuracy on testing set:  0.9078947368421053\n",
      "Number of levels in tree:  3\n",
      "Accuracy on training set:  0.978021978021978\n",
      "Accuracy on testing set:  0.9429824561403509\n",
      "Number of levels in tree:  4\n",
      "Accuracy on training set:  0.9824175824175824\n",
      "Accuracy on testing set:  0.9473684210526315\n",
      "Number of levels in tree:  5\n",
      "Accuracy on training set:  0.9846153846153847\n",
      "Accuracy on testing set:  0.9429824561403509\n",
      "Number of levels in tree:  6\n",
      "Accuracy on training set:  0.9868131868131869\n",
      "Accuracy on testing set:  0.9429824561403509\n",
      "Number of levels in tree:  7\n",
      "Accuracy on training set:  0.9912087912087912\n",
      "Accuracy on testing set:  0.9385964912280702\n",
      "Number of levels in tree:  8\n",
      "Accuracy on training set:  0.9934065934065934\n",
      "Accuracy on testing set:  0.9429824561403509\n",
      "Number of levels in tree:  9\n",
      "Accuracy on training set:  0.9956043956043956\n",
      "Accuracy on testing set:  0.9429824561403509\n"
     ]
    }
   ],
   "source": [
    "#Iterate over the training and testing set\n",
    "#and report accuracy as the number of nodes increase\n",
    "accuracylist_train = []\n",
    "accuracylist_test = []\n",
    "depth_tree = []\n",
    "for i in range(1,10):\n",
    "    depth_tree.append(i)\n",
    "    root = GenerateTree(train_set,i,0)\n",
    "    accuracy_train = predict(root,train_set)\n",
    "    accuracy_test = predict(root,test_set)\n",
    "    print(\"Number of levels in tree: \",i)\n",
    "    print(\"Accuracy on training set: \",accuracy_train)\n",
    "    print(\"Accuracy on testing set: \",accuracy_test)\n",
    "    accuracylist_train.append(accuracy_train)\n",
    "    accuracylist_test.append(accuracy_test)"
   ]
  },
  {
   "cell_type": "code",
   "execution_count": 30,
   "metadata": {},
   "outputs": [
    {
     "data": {
      "image/png": "[encoded data removed]",
      "text/plain": [
       "<Figure size 432x288 with 1 Axes>"
      ]
     },
     "metadata": {
      "needs_background": "light"
     },
     "output_type": "display_data"
    }
   ],
   "source": [
    "#plot accuracy for training and testing data\n",
    "import matplotlib.pyplot as plt\n",
    "import numpy as np\n",
    "\n",
    "plt.plot(depth_tree, accuracylist_train, label='Train')\n",
    "plt.plot(depth_tree, accuracylist_test, label ='Test')\n",
    "plt.title('Accuracy on train and test with increasing nodes')\n",
    "plt.xlabel('Depth Of Tree')\n",
    "plt.ylabel('Accuracy')\n",
    "plt.legend()\n",
    "plt.show()\n"
   ]
  },
  {
   "cell_type": "code",
   "execution_count": 13,
   "metadata": {},
   "outputs": [],
   "source": [
    "#Question 1(b.ii)\n",
    "#Gini Index as splitting criterion\n",
    "#Function to compute Gini index\n",
    "def computeGiniIndex(feature_values):\n",
    "    total = feature_values.shape[0]\n",
    "    num_benign = len(feature_values.index[feature_values == 2].tolist())\n",
    "    if(num_benign == 0 or num_benign == total):\n",
    "        return 0.0\n",
    "    num_malign = len(feature_values.index[feature_values == 4].tolist())\n",
    "    p1 = (num_benign)/(total)\n",
    "    giniIndex = 2*p1*(1-p1)\n",
    "    return giniIndex\n",
    "    "
   ]
  },
  {
   "cell_type": "code",
   "execution_count": 14,
   "metadata": {},
   "outputs": [],
   "source": [
    "#Find the best split using gini Index\n",
    "def best_split_giniIndex(feature_df):\n",
    "    min_gini = sys.maxsize\n",
    "    min_split_index = 0\n",
    "    for i in range(1,10):\n",
    "        branch_1 = feature_df.index[feature_df <= i]\n",
    "        branch_2 = feature_df.index[feature_df > i]\n",
    "        branch_1_values = Y_train.loc[branch_1]\n",
    "        branch_2_values = Y_train.loc[branch_2]\n",
    "        branch_1_num = branch_1_values.shape[0]\n",
    "        branch_2_num = branch_2_values.shape[0]\n",
    "        if(branch_1_num !=0 or branch_2_num != 0):\n",
    "            branch_1_giniIndex = computeGiniIndex(branch_1_values)\n",
    "            branch_2_giniIndex = computeGiniIndex(branch_2_values)\n",
    "            total = branch_1_num + branch_2_num\n",
    "            gini_split = (branch_1_num/total)*(branch_1_giniIndex) + \\\n",
    "                            (branch_2_num/total)*(branch_2_giniIndex)\n",
    "            if(gini_split < min_gini):\n",
    "                min_gini = gini_split\n",
    "                min_split_index = i\n",
    "    return (min_gini, min_split_index)"
   ]
  },
  {
   "cell_type": "code",
   "execution_count": 15,
   "metadata": {},
   "outputs": [],
   "source": [
    "def best_split_attribute_gini(train_set):\n",
    "    min_gini = sys.maxsize\n",
    "    min_attribute = -1\n",
    "    min_attribute_split = -1\n",
    "    for i in train_set:\n",
    "        if (i != 'Class' and train_set.loc[:,i].shape[0] != 0):\n",
    "            (gini, index) = best_split_giniIndex(train_set.loc[:,i])\n",
    "            if(gini < min_gini):\n",
    "                min_gini = gini\n",
    "                min_attribute = i\n",
    "                min_attribute_split = index\n",
    "    return (min_attribute, min_attribute_split, min_gini)"
   ]
  },
  {
   "cell_type": "code",
   "execution_count": 16,
   "metadata": {},
   "outputs": [],
   "source": [
    "#Decision tree with gini index as splitting criterion\n",
    "def GenerateTree_gini(train_set,max_depth,curr_depth):\n",
    "    if(curr_depth >= max_depth):\n",
    "        return generateLeaf(train_set)\n",
    "    else:\n",
    "        best_attribute, best_index, best_gini = best_split_attribute_gini(train_set)\n",
    "        left_data = train_set[train_set.loc[:,best_attribute] <= best_index]\n",
    "        right_data = train_set[train_set.loc[:,best_attribute] > best_index]\n",
    "        \n",
    "        #left_data = left_data.drop(best_attribute,axis=1)\n",
    "        #right_data = right_data.drop(best_attribute,axis=1)\n",
    "        \n",
    "        if(left_data.shape[0] == 0 or left_data.shape[0] == train_set.shape[0]):\n",
    "            return generateLeaf(train_set)\n",
    "        \n",
    "        root = Tree()\n",
    "        root.split_index = best_index\n",
    "        root.split_attribute = best_attribute\n",
    "        root.left = GenerateTree_gini(left_data,max_depth,curr_depth+1)\n",
    "        root.right = GenerateTree_gini(right_data,max_depth,curr_depth+1)\n",
    "        return root\n"
   ]
  },
  {
   "cell_type": "code",
   "execution_count": 31,
   "metadata": {},
   "outputs": [
    {
     "name": "stdout",
     "output_type": "stream",
     "text": [
      "Number of levels in the tree : 1\n",
      "Accuracy on the training set:  0.9406593406593406\n",
      "Accuracy on the testing set:  0.8947368421052632\n",
      "Number of levels in the tree : 2\n",
      "Accuracy on the training set:  0.967032967032967\n",
      "Accuracy on the testing set:  0.9385964912280702\n",
      "Number of levels in the tree : 3\n",
      "Accuracy on the training set:  0.9714285714285714\n",
      "Accuracy on the testing set:  0.9385964912280702\n",
      "Number of levels in the tree : 4\n",
      "Accuracy on the training set:  0.978021978021978\n",
      "Accuracy on the testing set:  0.9385964912280702\n",
      "Number of levels in the tree : 5\n",
      "Accuracy on the training set:  0.9868131868131869\n",
      "Accuracy on the testing set:  0.9298245614035088\n",
      "Number of levels in the tree : 6\n",
      "Accuracy on the training set:  0.989010989010989\n",
      "Accuracy on the testing set:  0.9298245614035088\n",
      "Number of levels in the tree : 7\n",
      "Accuracy on the training set:  0.9956043956043956\n",
      "Accuracy on the testing set:  0.9385964912280702\n",
      "Number of levels in the tree : 8\n",
      "Accuracy on the training set:  0.9978021978021978\n",
      "Accuracy on the testing set:  0.9342105263157895\n",
      "Number of levels in the tree : 9\n",
      "Accuracy on the training set:  1.0\n",
      "Accuracy on the testing set:  0.9342105263157895\n"
     ]
    }
   ],
   "source": [
    "#Accuracy on train and test sets with increasing \n",
    "#number of nodes and gini index as splitting criterion\n",
    "accuracylist_train = []\n",
    "accuracylist_test = []\n",
    "depth_tree = []\n",
    "for i in range(1,10):\n",
    "    depth_tree.append(i)\n",
    "    root = GenerateTree_gini(train_set,i,0)\n",
    "    accuracy_train = predict(root,train_set)\n",
    "    accuracy_test = predict(root,test_set)\n",
    "    print(\"Number of levels in the tree :\",i)\n",
    "    print(\"Accuracy on the training set: \",accuracy_train)\n",
    "    print(\"Accuracy on the testing set: \",accuracy_test)\n",
    "    accuracylist_train.append(accuracy_train)\n",
    "    accuracylist_test.append(accuracy_test)"
   ]
  },
  {
   "cell_type": "code",
   "execution_count": 32,
   "metadata": {},
   "outputs": [
    {
     "data": {
      "image/png": "[encoded data removed]",
      "text/plain": [
       "<Figure size 432x288 with 1 Axes>"
      ]
     },
     "metadata": {
      "needs_background": "light"
     },
     "output_type": "display_data"
    }
   ],
   "source": [
    "#plot accuracy for training data\n",
    "import matplotlib.pyplot as plt\n",
    "import numpy as np\n",
    "\n",
    "plt.plot(depth_tree, accuracylist_train, label='Train')\n",
    "plt.plot(depth_tree, accuracylist_test, label ='Test')\n",
    "plt.xlabel('Depth Of Tree')\n",
    "plt.ylabel('Accuracy')\n",
    "plt.title('Accuracy with increasing nodes using Gini Index')\n",
    "plt.legend()\n",
    "plt.show()"
   ]
  },
  {
   "cell_type": "code",
   "execution_count": 19,
   "metadata": {},
   "outputs": [],
   "source": [
    "#Question 1(b.iii)\n",
    "#Bonus part: Implement Prepruning by keeping a threshold on \n",
    "#the number of training samples\n",
    "def GenerateTree_threshold_samples(train_set,max_depth,curr_depth,min_samples):\n",
    "    if(curr_depth >= max_depth or train_set.shape[0] < min_samples):\n",
    "        return generateLeaf(train_set)\n",
    "    else:\n",
    "        best_attribute, best_index, best_entropy = SplitAttribute(train_set)\n",
    "        \n",
    "        left_data = train_set[train_set.loc[:,best_attribute] <= best_index]\n",
    "        right_data = train_set[train_set.loc[:,best_attribute] > best_index]\n",
    "        \n",
    "        #left_data = left_data.drop(best_attribute,axis=1)\n",
    "        #right_data = right_data.drop(best_attribute,axis=1)\n",
    "    \n",
    "        if(left_data.shape[0] == 0 or left_data.shape[0] == train_set.shape[0]):\n",
    "            return generateLeaf(train_set)\n",
    "        root = Tree()\n",
    "        root.split_index = best_index\n",
    "        root.split_attribute = best_attribute\n",
    "        root.left = GenerateTree_threshold_samples(left_data,max_depth,curr_depth+1 \\\n",
    "                                                   ,min_samples)\n",
    "        root.right = GenerateTree_threshold_samples(right_data,max_depth,curr_depth+1, \\\n",
    "                                                    min_samples)\n",
    "        return root"
   ]
  },
  {
   "cell_type": "code",
   "execution_count": 20,
   "metadata": {},
   "outputs": [
    {
     "name": "stdout",
     "output_type": "stream",
     "text": [
      "Minimum number of training samples:  10\n",
      "Accuracy on the training set:  0.9758241758241758\n",
      "Accuracy on the test set:  0.9473684210526315\n",
      "Minimum number of training samples:  20\n",
      "Accuracy on the training set:  0.9714285714285714\n",
      "Accuracy on the test set:  0.9473684210526315\n",
      "Minimum number of training samples:  30\n",
      "Accuracy on the training set:  0.967032967032967\n",
      "Accuracy on the test set:  0.9517543859649122\n",
      "Minimum number of training samples:  40\n",
      "Accuracy on the training set:  0.9384615384615385\n",
      "Accuracy on the test set:  0.9254385964912281\n",
      "Minimum number of training samples:  50\n",
      "Accuracy on the training set:  0.9384615384615385\n",
      "Accuracy on the test set:  0.9254385964912281\n",
      "Minimum number of training samples:  60\n",
      "Accuracy on the training set:  0.9384615384615385\n",
      "Accuracy on the test set:  0.9254385964912281\n",
      "Minimum number of training samples:  70\n",
      "Accuracy on the training set:  0.9384615384615385\n",
      "Accuracy on the test set:  0.9254385964912281\n",
      "Minimum number of training samples:  80\n",
      "Accuracy on the training set:  0.9384615384615385\n",
      "Accuracy on the test set:  0.9254385964912281\n"
     ]
    }
   ],
   "source": [
    "#Depth of tree considered = 9\n",
    "#minimum number of training samples has been considered as stopping criterion\n",
    "accuracylist_train = []\n",
    "accuracylist_test = []\n",
    "thresholds = [10, 20, 30, 40, 50, 60, 70, 80]\n",
    "for i in thresholds:\n",
    "    root = GenerateTree_threshold_samples(train_set,9,0,i)\n",
    "    accuracy_train = predict(root,train_set)\n",
    "    accuracy_test = predict(root,test_set)\n",
    "    print(\"Minimum number of training samples: \",i)\n",
    "    print(\"Accuracy on the training set: \",accuracy_train)\n",
    "    print(\"Accuracy on the test set: \",accuracy_test)\n",
    "    accuracylist_train.append(accuracy_train)\n",
    "    accuracylist_test.append(accuracy_test)"
   ]
  },
  {
   "cell_type": "code",
   "execution_count": 21,
   "metadata": {},
   "outputs": [
    {
     "data": {
      "image/png": "[encoded data removed]",
      "text/plain": [
       "<Figure size 432x288 with 1 Axes>"
      ]
     },
     "metadata": {
      "needs_background": "light"
     },
     "output_type": "display_data"
    }
   ],
   "source": [
    "#plot accuracy for training data\n",
    "import matplotlib.pyplot as plt\n",
    "import numpy as np\n",
    "\n",
    "plt.plot(thresholds, accuracylist_train, label='Train')\n",
    "plt.plot(thresholds, accuracylist_test, label ='Test')\n",
    "plt.xlabel('Minimum number of training samples')\n",
    "plt.ylabel('Accuracy')\n",
    "plt.title('Accuracy with varying number of minimum training samples')\n",
    "plt.legend()\n",
    "plt.show()"
   ]
  },
  {
   "cell_type": "code",
   "execution_count": 22,
   "metadata": {},
   "outputs": [],
   "source": [
    "#Pre pruning based on a minimum value of entropy\n",
    "#Minimum entropy is set as stopping criterion for growing the tree\n",
    "def GenerateTree_threshold_entropy(train_set,max_depth,curr_depth,min_entropy):\n",
    "    if(curr_depth >= max_depth):\n",
    "        return generateLeaf(train_set)\n",
    "    else:\n",
    "        best_attribute, best_index, best_entropy = SplitAttribute(train_set)\n",
    "        if(best_entropy < min_entropy):\n",
    "            return generateLeaf(train_set)\n",
    "        \n",
    "        left_data = train_set[train_set.loc[:,best_attribute] <= best_index]\n",
    "        right_data = train_set[train_set.loc[:,best_attribute] > best_index]\n",
    "        \n",
    "        #left_data = left_data.drop(best_attribute,axis=1)\n",
    "        #right_data = right_data.drop(best_attribute,axis=1)\n",
    "        \n",
    "        #check for no split\n",
    "        if(left_data.shape[0] == 0 or right_data.shape[0] == 0):\n",
    "            return generateLeaf(train_set)\n",
    "        \n",
    "        root = Tree()\n",
    "        root.split_index = best_index\n",
    "        root.split_attribute = best_attribute\n",
    "    \n",
    "        root.left = GenerateTree_threshold_entropy(left_data,max_depth,curr_depth+1, \\\n",
    "                                                   min_entropy)\n",
    "        root.right = GenerateTree_threshold_entropy(right_data,max_depth,curr_depth+1,\\\n",
    "                                                    min_entropy)\n",
    "        return root\n",
    "    "
   ]
  },
  {
   "cell_type": "code",
   "execution_count": 23,
   "metadata": {},
   "outputs": [
    {
     "name": "stdout",
     "output_type": "stream",
     "text": [
      "Minimum entropy threshold:  0.0\n",
      "Accuracy on the training set:  1.0\n",
      "Accuracy on the testing set:  0.956140350877193\n",
      "Minimum entropy threshold:  0.05\n",
      "Accuracy on the training set:  0.9846153846153847\n",
      "Accuracy on the testing set:  0.956140350877193\n",
      "Minimum entropy threshold:  0.1\n",
      "Accuracy on the training set:  0.9714285714285714\n",
      "Accuracy on the testing set:  0.9605263157894737\n",
      "Minimum entropy threshold:  0.15\n",
      "Accuracy on the training set:  0.9692307692307692\n",
      "Accuracy on the testing set:  0.9605263157894737\n",
      "Minimum entropy threshold:  0.2\n",
      "Accuracy on the training set:  0.9692307692307692\n",
      "Accuracy on the testing set:  0.9605263157894737\n",
      "Minimum entropy threshold:  0.25\n",
      "Accuracy on the training set:  0.9626373626373627\n",
      "Accuracy on the testing set:  0.9649122807017544\n",
      "Minimum entropy threshold:  0.3\n",
      "Accuracy on the training set:  0.9626373626373627\n",
      "Accuracy on the testing set:  0.9649122807017544\n",
      "Minimum entropy threshold:  0.35\n",
      "Accuracy on the training set:  0.9538461538461539\n",
      "Accuracy on the testing set:  0.956140350877193\n",
      "Minimum entropy threshold:  0.4\n",
      "Accuracy on the training set:  0.6505494505494506\n",
      "Accuracy on the testing set:  0.6491228070175439\n",
      "Minimum entropy threshold:  0.45\n",
      "Accuracy on the training set:  0.6505494505494506\n",
      "Accuracy on the testing set:  0.6491228070175439\n",
      "Minimum entropy threshold:  0.5\n",
      "Accuracy on the training set:  0.6505494505494506\n",
      "Accuracy on the testing set:  0.6491228070175439\n"
     ]
    }
   ],
   "source": [
    "#Various entropy values are considered as thresholds\n",
    "accuracylist_train = []\n",
    "accuracylist_test = []\n",
    "entropy_thresholds = [0.0, 0.05, 0.1, 0.15, 0.2, 0.25, 0.3, 0.35, 0.4, 0.45, 0.5]\n",
    "for i in entropy_thresholds:\n",
    "    root = GenerateTree_threshold_entropy(train_set,9,0,i)\n",
    "    accuracy_train = predict(root,train_set)\n",
    "    accuracy_test = predict(root,test_set)\n",
    "    print(\"Minimum entropy threshold: \",i)\n",
    "    print(\"Accuracy on the training set: \",accuracy_train)\n",
    "    print(\"Accuracy on the testing set: \",accuracy_test)\n",
    "    accuracylist_train.append(accuracy_train)\n",
    "    accuracylist_test.append(accuracy_test)"
   ]
  },
  {
   "cell_type": "code",
   "execution_count": 24,
   "metadata": {},
   "outputs": [
    {
     "data": {
      "image/png": "[encoded data removed]",
      "text/plain": [
       "<Figure size 432x288 with 1 Axes>"
      ]
     },
     "metadata": {
      "needs_background": "light"
     },
     "output_type": "display_data"
    }
   ],
   "source": [
    "#plot accuracy for training data\n",
    "import matplotlib.pyplot as plt\n",
    "import numpy as np\n",
    "\n",
    "plt.plot(entropy_thresholds, accuracylist_train, label='Train')\n",
    "plt.plot(entropy_thresholds, accuracylist_test, label ='Test')\n",
    "plt.xlabel('Entropy threshold')\n",
    "plt.title('Accuracy on train and test with varying entropy thresholds')\n",
    "plt.ylabel('Accuracy')\n",
    "plt.legend()\n",
    "plt.show()"
   ]
  },
  {
   "cell_type": "code",
   "execution_count": 34,
   "metadata": {},
   "outputs": [],
   "source": [
    "#Pre pruning based on a minimum value of giniIndex\n",
    "#Minimum gini index is set as stopping criterion for growing the tree\n",
    "def GenerateTree_threshold_gini(train_set,max_depth,curr_depth,min_gini):\n",
    "    if(curr_depth >= max_depth):\n",
    "        return generateLeaf(train_set)\n",
    "    else:\n",
    "        best_attribute, best_index, best_gini = best_split_attribute_gini(train_set)\n",
    "        if(best_gini < min_gini):\n",
    "            return generateLeaf(train_set)\n",
    "        \n",
    "        left_data = train_set[train_set.loc[:,best_attribute] <= best_index]\n",
    "        right_data = train_set[train_set.loc[:,best_attribute] > best_index]\n",
    "        \n",
    "        #left_data = left_data.drop(best_attribute,axis=1)\n",
    "        #right_data = right_data.drop(best_attribute,axis=1)\n",
    "        \n",
    "        #check for no split\n",
    "        if(left_data.shape[0] == 0 or right_data.shape[0] == 0):\n",
    "            return generateLeaf(train_set)\n",
    "        \n",
    "        root = Tree()\n",
    "        root.split_index = best_index\n",
    "        root.split_attribute = best_attribute\n",
    "    \n",
    "        root.left = GenerateTree_threshold_gini(left_data,max_depth,curr_depth+1, \\\n",
    "                                                   min_gini)\n",
    "        root.right = GenerateTree_threshold_gini(right_data,max_depth,curr_depth+1,\\\n",
    "                                                    min_gini)\n",
    "        return root\n",
    "    "
   ]
  },
  {
   "cell_type": "code",
   "execution_count": 35,
   "metadata": {},
   "outputs": [
    {
     "name": "stdout",
     "output_type": "stream",
     "text": [
      "Minimum gini threshold:  0.0\n",
      "Accuracy on the training set:  1.0\n",
      "Accuracy on the testing set:  0.9342105263157895\n",
      "Minimum gini threshold:  0.05\n",
      "Accuracy on the training set:  0.9648351648351648\n",
      "Accuracy on the testing set:  0.8991228070175439\n",
      "Minimum gini threshold:  0.1\n",
      "Accuracy on the training set:  0.9472527472527472\n",
      "Accuracy on the testing set:  0.8991228070175439\n",
      "Minimum gini threshold:  0.15\n",
      "Accuracy on the training set:  0.6505494505494506\n",
      "Accuracy on the testing set:  0.6491228070175439\n",
      "Minimum gini threshold:  0.2\n",
      "Accuracy on the training set:  0.6505494505494506\n",
      "Accuracy on the testing set:  0.6491228070175439\n",
      "Minimum gini threshold:  0.25\n",
      "Accuracy on the training set:  0.6505494505494506\n",
      "Accuracy on the testing set:  0.6491228070175439\n",
      "Minimum gini threshold:  0.3\n",
      "Accuracy on the training set:  0.6505494505494506\n",
      "Accuracy on the testing set:  0.6491228070175439\n",
      "Minimum gini threshold:  0.35\n",
      "Accuracy on the training set:  0.6505494505494506\n",
      "Accuracy on the testing set:  0.6491228070175439\n",
      "Minimum gini threshold:  0.4\n",
      "Accuracy on the training set:  0.6505494505494506\n",
      "Accuracy on the testing set:  0.6491228070175439\n",
      "Minimum gini threshold:  0.45\n",
      "Accuracy on the training set:  0.6505494505494506\n",
      "Accuracy on the testing set:  0.6491228070175439\n",
      "Minimum gini threshold:  0.5\n",
      "Accuracy on the training set:  0.6505494505494506\n",
      "Accuracy on the testing set:  0.6491228070175439\n"
     ]
    }
   ],
   "source": [
    "#Various gini index values are considered as thresholds\n",
    "accuracylist_train = []\n",
    "accuracylist_test = []\n",
    "gini_thresholds = [0.0, 0.05, 0.1, 0.15, 0.2, 0.25, 0.3, 0.35, 0.4, 0.45, 0.5]\n",
    "for i in gini_thresholds:\n",
    "    root = GenerateTree_threshold_gini(train_set,9,0,i)\n",
    "    accuracy_train = predict(root,train_set)\n",
    "    accuracy_test = predict(root,test_set)\n",
    "    print(\"Minimum gini threshold: \",i)\n",
    "    print(\"Accuracy on the training set: \",accuracy_train)\n",
    "    print(\"Accuracy on the testing set: \",accuracy_test)\n",
    "    accuracylist_train.append(accuracy_train)\n",
    "    accuracylist_test.append(accuracy_test)"
   ]
  },
  {
   "cell_type": "code",
   "execution_count": 36,
   "metadata": {},
   "outputs": [
    {
     "data": {
      "image/png": "[encoded data removed]",
      "text/plain": [
       "<Figure size 432x288 with 1 Axes>"
      ]
     },
     "metadata": {
      "needs_background": "light"
     },
     "output_type": "display_data"
    }
   ],
   "source": [
    "#plot accuracy for training and testing data\n",
    "import matplotlib.pyplot as plt\n",
    "import numpy as np\n",
    "\n",
    "plt.plot(gini_thresholds, accuracylist_train, label='Train')\n",
    "plt.plot(gini_thresholds, accuracylist_test, label ='Test')\n",
    "plt.xlabel('Gini Index threshold')\n",
    "plt.title('Accuracy on train and test with varying gini thresholds')\n",
    "plt.ylabel('Accuracy')\n",
    "plt.legend()\n",
    "plt.show()"
   ]
  },
  {
   "cell_type": "code",
   "execution_count": null,
   "metadata": {},
   "outputs": [],
   "source": []
  }
 ],
 "metadata": {
  "kernelspec": {
   "display_name": "Python 3",
   "language": "python",
   "name": "python3"
  },
  "language_info": {
   "codemirror_mode": {
    "name": "ipython",
    "version": 3
   },
   "file_extension": ".py",
   "mimetype": "text/x-python",
   "name": "python",
   "nbconvert_exporter": "python",
   "pygments_lexer": "ipython3",
   "version": "3.7.1"
  }
 },
 "nbformat": 4,
 "nbformat_minor": 2
}
